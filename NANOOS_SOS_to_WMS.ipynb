{
 "cells": [
  {
   "cell_type": "markdown",
   "metadata": {},
   "source": [
    "# NANOOS SOS to WMS (SensorML > geopandas)\n",
    "6/2/2016"
   ]
  },
  {
   "cell_type": "code",
   "execution_count": 24,
   "metadata": {
    "collapsed": false
   },
   "outputs": [],
   "source": [
    "%matplotlib inline\n",
    "import matplotlib.pyplot as plt\n",
    "\n",
    "from datetime import datetime, timedelta\n",
    "import pytz\n",
    "from urllib import urlencode\n",
    "\n",
    "from pyoos.collectors.ioos.swe_sos import IoosSweSos\n",
    "from pyoos.parsers.ioos.describe_sensor import IoosDescribeSensor\n",
    "\n",
    "from owslib.sos import SensorObservationService\n",
    "from owslib.swe.sensor.sml import SensorML, Contact\n",
    "from owslib.util import (testXMLValue, testXMLAttribute, nspath_eval, \n",
    "                         xmltag_split, xml_to_dict, dict_union, extract_xml_list)\n",
    "from owslib.namespaces import Namespaces\n",
    "\n",
    "from geojson import Point, Feature, FeatureCollection\n",
    "import numpy as np\n",
    "import pandas as pd\n",
    "import geopandas as gpd\n",
    "\n",
    "\n",
    "def get_namespaces():\n",
    "    n = Namespaces()\n",
    "    # namespaces = n.get_namespaces([\"sml\", \"gml\", \"xlink\"])\n",
    "    namespaces = n.get_namespaces([\"sml\", \"gml\", \"xlink\", \"swe\"])\n",
    "    namespaces[\"ism\"] = \"urn:us:gov:ic:ism:v2\"\n",
    "    return namespaces\n",
    "\n",
    "namespaces = get_namespaces()\n",
    "\n",
    "def nsp(path):\n",
    "    return nspath_eval(path, namespaces)"
   ]
  },
  {
   "cell_type": "code",
   "execution_count": 2,
   "metadata": {
    "collapsed": false
   },
   "outputs": [
    {
     "data": {
      "application/json": {
       "Software versions": [
        {
         "module": "Python",
         "version": "2.7.11 64bit [GCC 4.4.7 20120313 (Red Hat 4.4.7-1)]"
        },
        {
         "module": "IPython",
         "version": "4.2.0"
        },
        {
         "module": "OS",
         "version": "Linux 3.13.0 86 generic x86_64 with debian jessie sid"
        },
        {
         "module": "numpy",
         "version": "1.10.4"
        },
        {
         "module": "pandas",
         "version": "0.18.1"
        },
        {
         "module": "owslib",
         "version": "0.11.0"
        },
        {
         "module": "pyoos",
         "version": "0.7.0"
        }
       ]
      },
      "text/html": [
       "<table><tr><th>Software</th><th>Version</th></tr><tr><td>Python</td><td>2.7.11 64bit [GCC 4.4.7 20120313 (Red Hat 4.4.7-1)]</td></tr><tr><td>IPython</td><td>4.2.0</td></tr><tr><td>OS</td><td>Linux 3.13.0 86 generic x86_64 with debian jessie sid</td></tr><tr><td>numpy</td><td>1.10.4</td></tr><tr><td>pandas</td><td>0.18.1</td></tr><tr><td>owslib</td><td>0.11.0</td></tr><tr><td>pyoos</td><td>0.7.0</td></tr><tr><td colspan='2'>Thu Jun 02 11:02:59 2016 PDT</td></tr></table>"
      ],
      "text/latex": [
       "\\begin{tabular}{|l|l|}\\hline\n",
       "{\\bf Software} & {\\bf Version} \\\\ \\hline\\hline\n",
       "Python & 2.7.11 64bit [GCC 4.4.7 20120313 (Red Hat 4.4.7-1)] \\\\ \\hline\n",
       "IPython & 4.2.0 \\\\ \\hline\n",
       "OS & Linux 3.13.0 86 generic x86\\_64 with debian jessie sid \\\\ \\hline\n",
       "numpy & 1.10.4 \\\\ \\hline\n",
       "pandas & 0.18.1 \\\\ \\hline\n",
       "owslib & 0.11.0 \\\\ \\hline\n",
       "pyoos & 0.7.0 \\\\ \\hline\n",
       "\\hline \\multicolumn{2}{|l|}{Thu Jun 02 11:02:59 2016 PDT} \\\\ \\hline\n",
       "\\end{tabular}\n"
      ],
      "text/plain": [
       "Software versions\n",
       "Python 2.7.11 64bit [GCC 4.4.7 20120313 (Red Hat 4.4.7-1)]\n",
       "IPython 4.2.0\n",
       "OS Linux 3.13.0 86 generic x86_64 with debian jessie sid\n",
       "numpy 1.10.4\n",
       "pandas 0.18.1\n",
       "owslib 0.11.0\n",
       "pyoos 0.7.0\n",
       "Thu Jun 02 11:02:59 2016 PDT"
      ]
     },
     "execution_count": 2,
     "metadata": {},
     "output_type": "execute_result"
    }
   ],
   "source": [
    "# Ran with ioos conda env\n",
    "%load_ext version_information\n",
    "%version_information numpy, pandas, owslib, pyoos"
   ]
  },
  {
   "cell_type": "markdown",
   "metadata": {},
   "source": [
    "## NANOOS SOS"
   ]
  },
  {
   "cell_type": "code",
   "execution_count": 3,
   "metadata": {
    "collapsed": true
   },
   "outputs": [],
   "source": [
    "sosurl = 'http://data.nanoos.org/52nsos/sos/kvp'\n",
    "\n",
    "# NANOOS SOS is failing??\n",
    "# ConnectionError: HTTPConnectionPool(host='data.nanoos.org', port=80): Max retries exceeded with url: \n",
    "# /52nsos/sos/kvp?service=SOS&request=GetCapabilities&acceptVersions=1.0.0 \n",
    "# (Caused by NewConnectionError('<requests.packages.urllib3.connection.HTTPConnection object at 0x7f34545dca50>: \n",
    "# Failed to establish a new connection: [Errno -2] Name or service not known',))\n",
    "\n",
    "# sosurl = 'http://sos.cencoos.org/sos/sos/kvp'"
   ]
  },
  {
   "cell_type": "code",
   "execution_count": 4,
   "metadata": {
    "collapsed": false
   },
   "outputs": [],
   "source": [
    "collector52n = IoosSweSos(sosurl)\n",
    "offerings52n = collector52n.server.offerings"
   ]
  },
  {
   "cell_type": "code",
   "execution_count": 5,
   "metadata": {
    "collapsed": true
   },
   "outputs": [],
   "source": [
    "# contents = collector52n.server.contents"
   ]
  },
  {
   "cell_type": "markdown",
   "metadata": {},
   "source": [
    "## select station for testing"
   ]
  },
  {
   "cell_type": "code",
   "execution_count": 6,
   "metadata": {
    "collapsed": true
   },
   "outputs": [],
   "source": [
    "station_urn = 'urn:ioos:station:nanoos:apl_chaba'\n",
    "# station_urn = 'urn:ioos:station:cencoos:Humboldt'"
   ]
  },
  {
   "cell_type": "code",
   "execution_count": 7,
   "metadata": {
    "collapsed": true
   },
   "outputs": [],
   "source": [
    "# procedure = station_urn\n",
    "collector52n.features = [station_urn]"
   ]
  },
  {
   "cell_type": "code",
   "execution_count": 8,
   "metadata": {
    "collapsed": false
   },
   "outputs": [
    {
     "data": {
      "text/plain": [
       "[<owslib.swe.sensor.sml.SensorML at 0x7f72f1244450>]"
      ]
     },
     "execution_count": 8,
     "metadata": {},
     "output_type": "execute_result"
    }
   ],
   "source": [
    "# sensorml = collector52n.metadata(feature_name_callback=procedure)\n",
    "sensorml_resp_lst = collector52n.metadata(timeout=200)\n",
    "sensorml_resp_lst"
   ]
  },
  {
   "cell_type": "code",
   "execution_count": 9,
   "metadata": {
    "collapsed": true
   },
   "outputs": [],
   "source": [
    "sensorml = sensorml_resp_lst[0]"
   ]
  },
  {
   "cell_type": "code",
   "execution_count": 10,
   "metadata": {
    "collapsed": false
   },
   "outputs": [
    {
     "data": {
      "text/plain": [
       "<pyoos.parsers.ioos.one.describe_sensor.StationDS at 0x7f72d546e490>"
      ]
     },
     "execution_count": 10,
     "metadata": {},
     "output_type": "execute_result"
    }
   ],
   "source": [
    "pyoos_ds = IoosDescribeSensor(sensorml._root)\n",
    "pyoos_ds"
   ]
  },
  {
   "cell_type": "code",
   "execution_count": 11,
   "metadata": {
    "collapsed": false,
    "scrolled": true
   },
   "outputs": [
    {
     "data": {
      "text/plain": [
       "{'ending': datetime.datetime(2016, 6, 2, 15, 51, 15, tzinfo=tzutc()),\n",
       " 'id': 'urn:ioos:station:nanoos:apl_chaba',\n",
       " 'ioos_version': '1.0',\n",
       " 'keywords': [],\n",
       " 'location': <Element {http://www.opengis.net/gml}Point at 0x7f72d546dbd8>,\n",
       " 'longName': u'(APL-UW) \\xc4\\u2020h\\xc3\\xa1\\xca\\u201dba\\xc2\\xb7 UW/NANOOS Moored Buoy near La Push',\n",
       " 'platformType': 'moored_buoy',\n",
       " 'shortName': u'APL-UW \\xc4\\u2020h\\xc3\\xa1\\xca\\u201dba\\xc2\\xb7',\n",
       " 'starting': datetime.datetime(2016, 3, 19, 17, 41, 37, tzinfo=tzutc()),\n",
       " 'system': <owslib.swe.sensor.sml.System at 0x7f72d546e610>,\n",
       " 'variables': ['http://mmisw.org/ont/cf/parameter/air_temperature',\n",
       "  'http://mmisw.org/ont/cf/parameter/mass_concentration_of_chlorophyll_in_sea_water',\n",
       "  'http://mmisw.org/ont/cf/parameter/mass_concentration_of_oxygen_in_sea_water',\n",
       "  'http://mmisw.org/ont/cf/parameter/mole_concentration_of_nitrate_in_sea_water',\n",
       "  'http://mmisw.org/ont/cf/parameter/relative_humidity',\n",
       "  'http://mmisw.org/ont/cf/parameter/sea_water_pressure',\n",
       "  'http://mmisw.org/ont/cf/parameter/sea_water_salinity',\n",
       "  'http://mmisw.org/ont/cf/parameter/sea_water_temperature',\n",
       "  'http://mmisw.org/ont/cf/parameter/sea_water_turbidity',\n",
       "  'http://mmisw.org/ont/cf/parameter/surface_air_pressure',\n",
       "  'http://mmisw.org/ont/cf/parameter/wind_from_direction',\n",
       "  'http://mmisw.org/ont/cf/parameter/wind_speed']}"
      ]
     },
     "execution_count": 11,
     "metadata": {},
     "output_type": "execute_result"
    }
   ],
   "source": [
    "vars(pyoos_ds)"
   ]
  },
  {
   "cell_type": "code",
   "execution_count": 12,
   "metadata": {
    "collapsed": false
   },
   "outputs": [],
   "source": [
    "# vars(pyoos_ds.system)"
   ]
  },
  {
   "cell_type": "code",
   "execution_count": 13,
   "metadata": {
    "collapsed": false
   },
   "outputs": [
    {
     "data": {
      "text/plain": [
       "['47.96590042114258', '-124.94920349121094']"
      ]
     },
     "execution_count": 13,
     "metadata": {},
     "output_type": "execute_result"
    }
   ],
   "source": [
    "pos = testXMLValue(pyoos_ds.system.location.find(nsp('gml:Point/gml:pos')))\n",
    "pos.split()"
   ]
  },
  {
   "cell_type": "markdown",
   "metadata": {},
   "source": [
    "## Code to pull out all station urn's from GetCapabilities"
   ]
  },
  {
   "cell_type": "code",
   "execution_count": 14,
   "metadata": {
    "collapsed": false
   },
   "outputs": [
    {
     "data": {
      "text/plain": [
       "(55, list, owslib.swe.observation.sos100.SosObservationOffering)"
      ]
     },
     "execution_count": 14,
     "metadata": {},
     "output_type": "execute_result"
    }
   ],
   "source": [
    "len(offerings52n), type(offerings52n), type(offerings52n[1])"
   ]
  },
  {
   "cell_type": "code",
   "execution_count": 15,
   "metadata": {
    "collapsed": false
   },
   "outputs": [],
   "source": [
    "off1 = offerings52n[1]"
   ]
  },
  {
   "cell_type": "code",
   "execution_count": 16,
   "metadata": {
    "collapsed": false
   },
   "outputs": [
    {
     "data": {
      "text/plain": [
       "{'_root': <Element {http://www.opengis.net/sos/1.0}ObservationOffering at 0x7f72d5d52dd0>,\n",
       " 'bbox': (-124.95020294189453,\n",
       "  47.9659004211426,\n",
       "  -124.949203491211,\n",
       "  47.967201232910156),\n",
       " 'bbox_srs': urn:ogc:def:crs:EPSG::4326,\n",
       " 'begin_position': datetime.datetime(2014, 8, 1, 0, 0, 36, tzinfo=tzutc()),\n",
       " 'description': None,\n",
       " 'end_position': datetime.datetime(2016, 6, 2, 15, 51, 15, tzinfo=tzutc()),\n",
       " 'features_of_interest': ['urn:ioos:station:nanoos:apl_chaba(height0.0m)'],\n",
       " 'id': 'urn_ioos_station_nanoos_apl_chaba',\n",
       " 'name': 'urn:ioos:station:nanoos:apl_chaba',\n",
       " 'observed_properties': ['NONE',\n",
       "  'http://mmisw.org/ont/cf/parameter/air_temperature',\n",
       "  'http://mmisw.org/ont/cf/parameter/mass_concentration_of_chlorophyll_in_sea_water',\n",
       "  'http://mmisw.org/ont/cf/parameter/mass_concentration_of_oxygen_in_sea_water',\n",
       "  'http://mmisw.org/ont/cf/parameter/mole_concentration_of_nitrate_in_sea_water',\n",
       "  'http://mmisw.org/ont/cf/parameter/relative_humidity',\n",
       "  'http://mmisw.org/ont/cf/parameter/sea_water_pressure',\n",
       "  'http://mmisw.org/ont/cf/parameter/sea_water_salinity',\n",
       "  'http://mmisw.org/ont/cf/parameter/sea_water_temperature',\n",
       "  'http://mmisw.org/ont/cf/parameter/sea_water_turbidity',\n",
       "  'http://mmisw.org/ont/cf/parameter/surface_air_pressure',\n",
       "  'http://mmisw.org/ont/cf/parameter/wind_from_direction',\n",
       "  'http://mmisw.org/ont/cf/parameter/wind_speed'],\n",
       " 'procedures': ['urn:ioos:station:nanoos:apl_chaba'],\n",
       " 'response_formats': ['application/json',\n",
       "  'application/zip; subtype=x-netcdf',\n",
       "  'text/xml; subtype=\"om/1.0.0\"',\n",
       "  'text/xml; subtype=\"om/1.0.0/profiles/ioos_sos/1.0\"'],\n",
       " 'response_modes': ['inline', 'resultTemplate'],\n",
       " 'result_model': None}"
      ]
     },
     "execution_count": 16,
     "metadata": {},
     "output_type": "execute_result"
    }
   ],
   "source": [
    "vars(off1)"
   ]
  },
  {
   "cell_type": "code",
   "execution_count": 17,
   "metadata": {
    "collapsed": false
   },
   "outputs": [
    {
     "data": {
      "text/plain": [
       "'urn:ioos:station:nanoos:apl_chaba'"
      ]
     },
     "execution_count": 17,
     "metadata": {},
     "output_type": "execute_result"
    }
   ],
   "source": [
    "off1.name"
   ]
  },
  {
   "cell_type": "code",
   "execution_count": 18,
   "metadata": {
    "collapsed": false
   },
   "outputs": [
    {
     "data": {
      "text/plain": [
       "'urn:ioos:station:nanoos:apl_npb1ptwells'"
      ]
     },
     "execution_count": 18,
     "metadata": {},
     "output_type": "execute_result"
    }
   ],
   "source": [
    "offerings52n[2].name"
   ]
  },
  {
   "cell_type": "markdown",
   "metadata": {},
   "source": [
    "## Harvest all stations"
   ]
  },
  {
   "cell_type": "code",
   "execution_count": 19,
   "metadata": {
    "collapsed": false
   },
   "outputs": [
    {
     "data": {
      "text/plain": [
       "54"
      ]
     },
     "execution_count": 19,
     "metadata": {},
     "output_type": "execute_result"
    }
   ],
   "source": [
    "station_urn_lst = [urn.name for urn in offerings52n if urn.name.split(':')[-1] != 'all']\n",
    "len(station_urn_lst)"
   ]
  },
  {
   "cell_type": "code",
   "execution_count": 20,
   "metadata": {
    "collapsed": true
   },
   "outputs": [],
   "source": [
    "collector52n.features = station_urn_lst\n",
    "sensorml_resp_lst = collector52n.metadata(timeout=200)"
   ]
  },
  {
   "cell_type": "code",
   "execution_count": 21,
   "metadata": {
    "collapsed": true
   },
   "outputs": [],
   "source": [
    "station_rec_lst = []\n",
    "for station_idx, station_urn in enumerate(station_urn_lst):\n",
    "    ds = IoosDescribeSensor(sensorml_resp_lst[station_idx]._root)\n",
    "\n",
    "    pos = testXMLValue(ds.system.location.find(nsp('gml:Point/gml:pos')))\n",
    "    lat, lon = pos.split()\n",
    "    station_rec = dict(\n",
    "        id=ds.id,\n",
    "        longitude=float(lon),\n",
    "        latitude=float(lat),\n",
    "        station_urn_id=ds.id,\n",
    "        shortName=ds.shortName,\n",
    "        longName=ds.longName,\n",
    "        platformType=ds.platformType,\n",
    "        starting=datetime.isoformat(ds.starting),\n",
    "        ending=datetime.isoformat(ds.ending)\n",
    "    )\n",
    "    #     variables_lst=pyoos_ds.variables\n",
    "    \n",
    "    station_rec_lst.append(station_rec)"
   ]
  },
  {
   "cell_type": "code",
   "execution_count": 22,
   "metadata": {
    "collapsed": false
   },
   "outputs": [],
   "source": [
    "# station_rec\n",
    "# station_rec_lst = [station_rec]"
   ]
  },
  {
   "cell_type": "code",
   "execution_count": 25,
   "metadata": {
    "collapsed": false
   },
   "outputs": [],
   "source": [
    "# geojson features and feature collection\n",
    "features = []\n",
    "for rec in station_rec_lst:\n",
    "    feature = Feature(geometry=Point((rec['longitude'], rec['latitude'])), \n",
    "                      id=rec['id'],\n",
    "                      properties=rec)\n",
    "    features.append(feature)\n",
    "    \n",
    "stations_featcoll = FeatureCollection(features)\n",
    "# stations_featcoll"
   ]
  },
  {
   "cell_type": "markdown",
   "metadata": {},
   "source": [
    "## Load into geopandas"
   ]
  },
  {
   "cell_type": "code",
   "execution_count": 26,
   "metadata": {
    "collapsed": false
   },
   "outputs": [
    {
     "data": {
      "text/plain": [
       "54"
      ]
     },
     "execution_count": 26,
     "metadata": {},
     "output_type": "execute_result"
    }
   ],
   "source": [
    "stations_gdf = gpd.GeoDataFrame.from_features(features=stations_featcoll['features'])\n",
    "len(stations_gdf)"
   ]
  },
  {
   "cell_type": "code",
   "execution_count": 27,
   "metadata": {
    "collapsed": false
   },
   "outputs": [
    {
     "data": {
      "text/html": [
       "<div>\n",
       "<table border=\"1\" class=\"dataframe\">\n",
       "  <thead>\n",
       "    <tr style=\"text-align: right;\">\n",
       "      <th></th>\n",
       "      <th>ending</th>\n",
       "      <th>geometry</th>\n",
       "      <th>id</th>\n",
       "      <th>latitude</th>\n",
       "      <th>longName</th>\n",
       "      <th>longitude</th>\n",
       "      <th>platformType</th>\n",
       "      <th>shortName</th>\n",
       "      <th>starting</th>\n",
       "      <th>station_urn_id</th>\n",
       "    </tr>\n",
       "  </thead>\n",
       "  <tbody>\n",
       "    <tr>\n",
       "      <th>0</th>\n",
       "      <td>2016-06-02T15:51:15+00:00</td>\n",
       "      <td>POINT (-124.9492034912109 47.96590042114258)</td>\n",
       "      <td>urn:ioos:station:nanoos:apl_chaba</td>\n",
       "      <td>47.965900</td>\n",
       "      <td>(APL-UW) Ä†hÃ¡Ê”baÂ· UW/NANOOS Moored Buoy nea...</td>\n",
       "      <td>-124.949203</td>\n",
       "      <td>moored_buoy</td>\n",
       "      <td>APL-UW Ä†hÃ¡Ê”baÂ·</td>\n",
       "      <td>2016-03-19T17:41:37+00:00</td>\n",
       "      <td>urn:ioos:station:nanoos:apl_chaba</td>\n",
       "    </tr>\n",
       "    <tr>\n",
       "      <th>1</th>\n",
       "      <td>2016-06-02T07:17:07+00:00</td>\n",
       "      <td>POINT (-122.3972015380859 47.76119995117188)</td>\n",
       "      <td>urn:ioos:station:nanoos:apl_npb1ptwells</td>\n",
       "      <td>47.761200</td>\n",
       "      <td>(APL-UW) LSG NPB-1 Profiling Buoy at Pt. Wells</td>\n",
       "      <td>-122.397202</td>\n",
       "      <td>moored_buoy</td>\n",
       "      <td>APL-UW NPB-1</td>\n",
       "      <td>2015-12-04T06:28:48+00:00</td>\n",
       "      <td>urn:ioos:station:nanoos:apl_npb1ptwells</td>\n",
       "    </tr>\n",
       "    <tr>\n",
       "      <th>2</th>\n",
       "      <td>2016-06-02T17:03:58+00:00</td>\n",
       "      <td>POINT (-122.7300033569336 47.27999877929688)</td>\n",
       "      <td>urn:ioos:station:nanoos:apl_npb2carr</td>\n",
       "      <td>47.279999</td>\n",
       "      <td>(APL-UW) LSG NPB-2 Profiling Buoy at Carr Inlet</td>\n",
       "      <td>-122.730003</td>\n",
       "      <td>moored_buoy</td>\n",
       "      <td>APL-UW NPB-2</td>\n",
       "      <td>2015-12-07T20:09:44+00:00</td>\n",
       "      <td>urn:ioos:station:nanoos:apl_npb2carr</td>\n",
       "    </tr>\n",
       "    <tr>\n",
       "      <th>3</th>\n",
       "      <td>2013-08-16T21:54:00+00:00</td>\n",
       "      <td>POINT (-123.7740020751953 46.2047004699707)</td>\n",
       "      <td>urn:ioos:station:nanoos:cmop_coaof</td>\n",
       "      <td>46.204700</td>\n",
       "      <td>(CMOP) Waste water outfall (City of Astoria)</td>\n",
       "      <td>-123.774002</td>\n",
       "      <td>fixed</td>\n",
       "      <td>CMOP_Coaof</td>\n",
       "      <td>2013-08-16T21:54:00+00:00</td>\n",
       "      <td>urn:ioos:station:nanoos:cmop_coaof</td>\n",
       "    </tr>\n",
       "    <tr>\n",
       "      <th>4</th>\n",
       "      <td>2015-09-07T20:02:44+00:00</td>\n",
       "      <td>POINT (-123.9551010131836 46.22570037841797)</td>\n",
       "      <td>urn:ioos:station:nanoos:cmop_dsdma</td>\n",
       "      <td>46.225700</td>\n",
       "      <td>(CMOP) Desdemona Sands Light</td>\n",
       "      <td>-123.955101</td>\n",
       "      <td>fixed</td>\n",
       "      <td>CMOP_Dsdma</td>\n",
       "      <td>2014-08-01T00:14:12+00:00</td>\n",
       "      <td>urn:ioos:station:nanoos:cmop_dsdma</td>\n",
       "    </tr>\n",
       "  </tbody>\n",
       "</table>\n",
       "</div>"
      ],
      "text/plain": [
       "                      ending                                      geometry  \\\n",
       "0  2016-06-02T15:51:15+00:00  POINT (-124.9492034912109 47.96590042114258)   \n",
       "1  2016-06-02T07:17:07+00:00  POINT (-122.3972015380859 47.76119995117188)   \n",
       "2  2016-06-02T17:03:58+00:00  POINT (-122.7300033569336 47.27999877929688)   \n",
       "3  2013-08-16T21:54:00+00:00   POINT (-123.7740020751953 46.2047004699707)   \n",
       "4  2015-09-07T20:02:44+00:00  POINT (-123.9551010131836 46.22570037841797)   \n",
       "\n",
       "                                        id   latitude  \\\n",
       "0        urn:ioos:station:nanoos:apl_chaba  47.965900   \n",
       "1  urn:ioos:station:nanoos:apl_npb1ptwells  47.761200   \n",
       "2     urn:ioos:station:nanoos:apl_npb2carr  47.279999   \n",
       "3       urn:ioos:station:nanoos:cmop_coaof  46.204700   \n",
       "4       urn:ioos:station:nanoos:cmop_dsdma  46.225700   \n",
       "\n",
       "                                            longName   longitude platformType  \\\n",
       "0  (APL-UW) Ä†hÃ¡Ê”baÂ· UW/NANOOS Moored Buoy nea... -124.949203  moored_buoy   \n",
       "1     (APL-UW) LSG NPB-1 Profiling Buoy at Pt. Wells -122.397202  moored_buoy   \n",
       "2    (APL-UW) LSG NPB-2 Profiling Buoy at Carr Inlet -122.730003  moored_buoy   \n",
       "3       (CMOP) Waste water outfall (City of Astoria) -123.774002        fixed   \n",
       "4                       (CMOP) Desdemona Sands Light -123.955101        fixed   \n",
       "\n",
       "            shortName                   starting  \\\n",
       "0  APL-UW Ä†hÃ¡Ê”baÂ·  2016-03-19T17:41:37+00:00   \n",
       "1        APL-UW NPB-1  2015-12-04T06:28:48+00:00   \n",
       "2        APL-UW NPB-2  2015-12-07T20:09:44+00:00   \n",
       "3          CMOP_Coaof  2013-08-16T21:54:00+00:00   \n",
       "4          CMOP_Dsdma  2014-08-01T00:14:12+00:00   \n",
       "\n",
       "                            station_urn_id  \n",
       "0        urn:ioos:station:nanoos:apl_chaba  \n",
       "1  urn:ioos:station:nanoos:apl_npb1ptwells  \n",
       "2     urn:ioos:station:nanoos:apl_npb2carr  \n",
       "3       urn:ioos:station:nanoos:cmop_coaof  \n",
       "4       urn:ioos:station:nanoos:cmop_dsdma  "
      ]
     },
     "execution_count": 27,
     "metadata": {},
     "output_type": "execute_result"
    }
   ],
   "source": [
    "stations_gdf.head()"
   ]
  },
  {
   "cell_type": "code",
   "execution_count": null,
   "metadata": {
    "collapsed": false
   },
   "outputs": [],
   "source": [
    "# stations_gdf.plot()"
   ]
  },
  {
   "cell_type": "code",
   "execution_count": null,
   "metadata": {
    "collapsed": true
   },
   "outputs": [],
   "source": []
  }
 ],
 "metadata": {
  "kernelspec": {
   "display_name": "Python 2",
   "language": "python",
   "name": "python2"
  },
  "language_info": {
   "codemirror_mode": {
    "name": "ipython",
    "version": 2
   },
   "file_extension": ".py",
   "mimetype": "text/x-python",
   "name": "python",
   "nbconvert_exporter": "python",
   "pygments_lexer": "ipython2",
   "version": "2.7.11"
  }
 },
 "nbformat": 4,
 "nbformat_minor": 0
}
